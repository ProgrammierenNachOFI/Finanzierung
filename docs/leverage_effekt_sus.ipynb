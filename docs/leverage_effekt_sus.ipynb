{
 "cells": [
  {
   "cell_type": "markdown",
   "metadata": {
    "slideshow": {
     "slide_type": "slide"
    },
    "tags": []
   },
   "source": [
    "# Leverage Effekt\n",
    "*Auswirkung des Finanzierungsverhältnisses auf die Rendite*"
   ]
  },
  {
   "cell_type": "markdown",
   "metadata": {
    "slideshow": {
     "slide_type": "skip"
    },
    "tags": []
   },
   "source": [
    "Im Folgenden geht es darum, die Auswirkung eines sich verändernden\n",
    "Finanzierungsverhältnisses (Fremd- im Verhältnis zum Eigenkapital) auf die Eigenkapitalrendite zu\n",
    "studieren."
   ]
  },
  {
   "cell_type": "markdown",
   "metadata": {},
   "source": [
    "Nehmen Sie dazu ein fiktives Unternehmen mit einem Gesamtkapital von\n",
    "100\\. Um die Auswirkungen des sich verändernden\n",
    "Finanzierungsverhältnisses zu beobachten, ersetzen Sie in\n",
    "Zehnerschritten - beginnend bei 90 - Eigenkapital durch Fredmdapital.\n",
    "Das heisst, Sie beginnen mit 90 Eigenkapital und 10 Fremdkapital.\n",
    "\n",
    "Gehen Sie für Ihren Test von einer Gesamtkapitalrendite\n",
    "von 12% aus."
   ]
  },
  {
   "cell_type": "markdown",
   "metadata": {},
   "source": [
    "Damit Sie den Effekt vollständig beobachten können, machen Sie drei\n",
    "Durchläufe. Den ersten mit 5% Zins für das Fremdkapital, dann mit 10%\n",
    "und zum Schluss mit 15%."
   ]
  },
  {
   "cell_type": "markdown",
   "metadata": {},
   "source": [
    "Berechnen Sie für alle drei Zinssätze die Eigenkapitalrentabilität."
   ]
  },
  {
   "cell_type": "markdown",
   "metadata": {},
   "source": [
    "Zur Erinnerung die Formeln für die Berechnung der\n",
    "\n",
    "- Gesamtkapitalrendite: $RoI = \\frac{Gewinn}{Gesamtkapital} \\cdot 100$\n",
    "- Eigenkapitalrendite: $RoE = \\frac{Gewinn}{Eigenkapital} \\cdot 100$"
   ]
  },
  {
   "cell_type": "markdown",
   "metadata": {},
   "source": [
    "## Versuchsanordnung"
   ]
  },
  {
   "cell_type": "markdown",
   "metadata": {},
   "source": [
    "In der folgenden Zelle werden die für die Auswertung erforderlichen\n",
    "Libraries importiert."
   ]
  },
  {
   "cell_type": "code",
   "execution_count": null,
   "metadata": {
    "slideshow": {
     "slide_type": "skip"
    }
   },
   "outputs": [],
   "source": [
    "import matplotlib.pyplot as plt\n",
    "import pandas as pd"
   ]
  },
  {
   "cell_type": "markdown",
   "metadata": {
    "slideshow": {
     "slide_type": "skip"
    }
   },
   "source": [
    "### Anlage der Versuchsdaten"
   ]
  },
  {
   "cell_type": "markdown",
   "metadata": {},
   "source": [
    "Erstellen Sie eine Liste `ek_liste` aus den Literalen $90, 80, ... ,\n",
    "10$. Die anderen erforderlichen Listen können Sie aus dieser mittels\n",
    "[list comprehensions](https://realpython.com/list-comprehension-python/)\n",
    "berechnen.\n",
    "\n",
    "Geben Sie die so erstellten Listen der Eigenkapitalrentabilität bei 5%,\n",
    "10% und 15% Zins für das Fremdkapital aus."
   ]
  },
  {
   "cell_type": "code",
   "execution_count": null,
   "metadata": {
    "slideshow": {
     "slide_type": "skip"
    }
   },
   "outputs": [],
   "source": [
    "ek_liste = # TODO: erstellen Sie die erforderlichen Listen"
   ]
  },
  {
   "cell_type": "markdown",
   "metadata": {
    "slideshow": {
     "slide_type": "skip"
    }
   },
   "source": [
    "### Visualisierung"
   ]
  },
  {
   "cell_type": "markdown",
   "metadata": {
    "slideshow": {
     "slide_type": "skip"
    }
   },
   "source": [
    "Weil die wenigsten Menschen Gesetzmässigkeiten von Zahlen in Tabellen\n",
    "erkennen können, ist es sinnvoll, die Daten als Hilfestellung grafisch\n",
    "darzustellen.\n",
    "\n",
    "Dazu wird die Python Library\n",
    "[matplotlib](https://matplotlib.org/)\n",
    "verwendet."
   ]
  },
  {
   "cell_type": "code",
   "execution_count": null,
   "metadata": {
    "slideshow": {
     "slide_type": "slide"
    },
    "tags": [
     "to_remove"
    ]
   },
   "outputs": [],
   "source": [
    "x = ek_liste\n",
    "\n",
    "fig, ax = plt.subplots()\n",
    "# TODO: plotten Sie die verschiedenen RoE Listen gegen das Finanzierungsverhältnis"
   ]
  },
  {
   "cell_type": "markdown",
   "metadata": {
    "slideshow": {
     "slide_type": "skip"
    }
   },
   "source": [
    "### Formulierung der Beobachtung"
   ]
  },
  {
   "cell_type": "markdown",
   "metadata": {},
   "source": [
    "Die Resultate des Experimentes lassen sich in folgendem Satz\n",
    "zusammenfassen:"
   ]
  },
  {
   "cell_type": "markdown",
   "metadata": {},
   "source": [
    "*Formulieren Sie hier Ihre Erkenntnis in einem Satz.*"
   ]
  },
  {
   "cell_type": "markdown",
   "metadata": {
    "slideshow": {
     "slide_type": "slide"
    }
   },
   "source": [
    "## Alternative Datenaufbereitung mit pandas"
   ]
  },
  {
   "cell_type": "markdown",
   "metadata": {
    "slideshow": {
     "slide_type": "skip"
    }
   },
   "source": [
    "Um alle Daten an einem Ort zu bündeln, kann alterantiv auch mit der\n",
    "[pandas](https://pandas.pydata.org/)\n",
    "Library gearbeitet werden. Diese Library wurde spezifisch für die\n",
    "Bedürfnisse von Data Scientists programmiert. Entsprechend bietet sie\n",
    "einen komfortablen Umgang mit Tabellen."
   ]
  },
  {
   "cell_type": "markdown",
   "metadata": {
    "slideshow": {
     "slide_type": "skip"
    }
   },
   "source": [
    "Tabellen werden in pandas als Data Frame bezeichnet. Es hat sich\n",
    "eingebürgert, für den Data Frame, mit dem gearbeitet wird, die Variabel\n",
    "`df` zu verwenden."
   ]
  },
  {
   "cell_type": "markdown",
   "metadata": {},
   "source": [
    "Spalten im Data Frame können aus einem \n",
    "[Dictionary](https://realpython.com/python-dicts/)\n",
    "erzeugt werden."
   ]
  },
  {
   "cell_type": "code",
   "execution_count": null,
   "metadata": {
    "slideshow": {
     "slide_type": "skip"
    }
   },
   "outputs": [],
   "source": [
    "df = pd.DataFrame({'EK': [90, 80, 70, 60, 50, 40, 30, 20, 10]})"
   ]
  },
  {
   "cell_type": "markdown",
   "metadata": {
    "slideshow": {
     "slide_type": "skip"
    }
   },
   "source": [
    "Weitere Spalten können dem Data Frame via\n",
    "einfache Berechnungen oder mit list comprehensions hinzugefügt werden."
   ]
  },
  {
   "cell_type": "code",
   "execution_count": null,
   "metadata": {
    "slideshow": {
     "slide_type": "skip"
    }
   },
   "outputs": [],
   "source": [
    "# Variante Berechnung FK\n",
    "df['FK'] = 100 - df['EK']"
   ]
  },
  {
   "cell_type": "code",
   "execution_count": null,
   "metadata": {},
   "outputs": [],
   "source": [
    "# Variante list comrehension zur Erfassung des FK\n",
    "df['FK'] = [100 - ek for ek in df['EK']]"
   ]
  },
  {
   "cell_type": "markdown",
   "metadata": {
    "slideshow": {
     "slide_type": "skip"
    }
   },
   "source": [
    "Um die erstellten Data Frames anzuzeigen, können Sie mit der Methode\n",
    "`df.to_string()` der Funktion `print()` übergeben werden."
   ]
  },
  {
   "cell_type": "code",
   "execution_count": null,
   "metadata": {
    "slideshow": {
     "slide_type": "skip"
    }
   },
   "outputs": [],
   "source": [
    "print(df.to_string())"
   ]
  },
  {
   "cell_type": "markdown",
   "metadata": {
    "slideshow": {
     "slide_type": "skip"
    }
   },
   "source": [
    "Wenn es sich um einen grossen Datensatz handelt, kann die Ausgabe mit\n",
    "`df.head()` auf die ersten fünf Zeilen begrenzt werden. Wenn der Methode\n",
    "`head()` eine Zahl als Parameter übergeben wird, wird die entsprechende\n",
    "Anzahl Zeilen ausgegeben."
   ]
  },
  {
   "cell_type": "code",
   "execution_count": null,
   "metadata": {
    "slideshow": {
     "slide_type": "skip"
    }
   },
   "outputs": [],
   "source": [
    "print(df.head(2))"
   ]
  },
  {
   "cell_type": "markdown",
   "metadata": {
    "slideshow": {
     "slide_type": "skip"
    }
   },
   "source": [
    "Mit diesen Angaben können Sie jetzt den Data Frame um die erforderlichen\n",
    "Spalten ergänzen."
   ]
  },
  {
   "cell_type": "code",
   "execution_count": null,
   "metadata": {},
   "outputs": [],
   "source": [
    "# TODO: ergänzen Sie den Datat Frame mit den noch fehlenden Spalten"
   ]
  },
  {
   "cell_type": "code",
   "execution_count": null,
   "metadata": {},
   "outputs": [],
   "source": [
    "# TODO: erstellen Sie aus dem Data Frame analog zu oben einen Plot"
   ]
  },
  {
   "cell_type": "markdown",
   "metadata": {},
   "source": [
    "Neben der Entwicklung der Eigenkapitalrentabilität bei unterschiedlichen\n",
    "Zinsen und Finanzierungsverhältnissen hilft möglicherweise auch die\n",
    "Gegenüberstellung der Entwicklung des Gewinnes und des Eigenkaptials für\n",
    "das Verständnis des Leverage Effektes."
   ]
  },
  {
   "cell_type": "code",
   "execution_count": null,
   "metadata": {},
   "outputs": [],
   "source": [
    "# TODO: ergänzen Sie den Data Frame entsprechend"
   ]
  },
  {
   "cell_type": "markdown",
   "metadata": {},
   "source": [
    "Mit `df['Gewinn_05'].shift(-1)` wird der Wert aus der Spalte\n",
    "`'Gewinn_05'` mit dem um eins kleineren Index als der aktuelle in die\n",
    "Berechnung einbezogen."
   ]
  },
  {
   "cell_type": "code",
   "execution_count": null,
   "metadata": {},
   "outputs": [],
   "source": [
    "# TODO: plotten Sie die Gewinnentwicklung gegen die Entwicklung des EK"
   ]
  },
  {
   "cell_type": "markdown",
   "metadata": {},
   "source": [
    "*Formulieren Sie Ihre Interpretation des erstellten Plots.*"
   ]
  }
 ],
 "metadata": {
  "kernelspec": {
   "display_name": "Python 3 (ipykernel)",
   "language": "python",
   "name": "python3"
  },
  "language_info": {
   "codemirror_mode": {
    "name": "ipython",
    "version": 3
   },
   "file_extension": ".py",
   "mimetype": "text/x-python",
   "name": "python",
   "nbconvert_exporter": "python",
   "pygments_lexer": "ipython3",
   "version": "3.11.5"
  }
 },
 "nbformat": 4,
 "nbformat_minor": 4
}
